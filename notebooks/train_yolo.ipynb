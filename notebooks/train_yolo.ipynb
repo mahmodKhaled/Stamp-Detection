{
 "cells": [
  {
   "cell_type": "code",
   "execution_count": 1,
   "metadata": {},
   "outputs": [],
   "source": [
    "import os\n",
    "import sys\n",
    "import pandas as pd\n",
    "from sklearn.model_selection import train_test_split\n",
    "sys.path.append('../')\n",
    "from src.utils import get_path_to, create_yolo_dataset\n",
    "\n",
    "RANDOM_STATE = 42\n",
    "YOLO_DATASET_PATH = get_path_to('input', 'yolo_dataset')\n",
    "if not os.path.exists(YOLO_DATASET_PATH):\n",
    "    os.makedirs(YOLO_DATASET_PATH)\n",
    "\n",
    "    os.makedirs(os.path.join(YOLO_DATASET_PATH, 'train'))\n",
    "    os.makedirs(os.path.join(YOLO_DATASET_PATH, 'val'))\n",
    "    \n",
    "    os.makedirs(os.path.join(YOLO_DATASET_PATH, 'train', 'images'))\n",
    "    os.makedirs(os.path.join(YOLO_DATASET_PATH, 'train', 'labels'))\n",
    "    os.makedirs(os.path.join(YOLO_DATASET_PATH, 'val', 'images'))\n",
    "    os.makedirs(os.path.join(YOLO_DATASET_PATH, 'val', 'labels'))"
   ]
  },
  {
   "cell_type": "code",
   "execution_count": 2,
   "metadata": {},
   "outputs": [],
   "source": [
    "dataset_path = get_path_to('input', 'labeled_images')\n",
    "\n",
    "images = [f for f in os.listdir(dataset_path) if not f.endswith('.txt')]\n",
    "txt_files = [f for f in os.listdir(dataset_path) if f.endswith('.txt')]"
   ]
  },
  {
   "cell_type": "code",
   "execution_count": 3,
   "metadata": {},
   "outputs": [
    {
     "name": "stdout",
     "output_type": "stream",
     "text": [
      "The yolo dataframe is: \n",
      "       images   labels\n",
      "0    102.png  102.txt\n",
      "1    109.png  109.txt\n",
      "2    117.png  117.txt\n",
      "3    122.png  122.txt\n",
      "4    123.png  123.txt\n",
      "..       ...      ...\n",
      "295  982.png  982.txt\n",
      "296  983.png  983.txt\n",
      "297  993.png  993.txt\n",
      "298  996.png  996.txt\n",
      "299  998.png  998.txt\n",
      "\n",
      "[300 rows x 2 columns]\n"
     ]
    }
   ],
   "source": [
    "yolo_df = pd.DataFrame({\n",
    "    'images': images,\n",
    "    'labels': txt_files\n",
    "})\n",
    "print('The yolo dataframe is: \\n', yolo_df)\n",
    "\n",
    "train_imgs, val_imgs = train_test_split(yolo_df, test_size=0.2, random_state=RANDOM_STATE)"
   ]
  },
  {
   "cell_type": "code",
   "execution_count": 4,
   "metadata": {},
   "outputs": [],
   "source": [
    "create_yolo_dataset(train_imgs, dataset_path, YOLO_DATASET_PATH, 'train')\n",
    "create_yolo_dataset(val_imgs, dataset_path, YOLO_DATASET_PATH, 'val')"
   ]
  },
  {
   "cell_type": "code",
   "execution_count": null,
   "metadata": {},
   "outputs": [],
   "source": []
  }
 ],
 "metadata": {
  "kernelspec": {
   "display_name": ".venv",
   "language": "python",
   "name": "python3"
  },
  "language_info": {
   "codemirror_mode": {
    "name": "ipython",
    "version": 3
   },
   "file_extension": ".py",
   "mimetype": "text/x-python",
   "name": "python",
   "nbconvert_exporter": "python",
   "pygments_lexer": "ipython3",
   "version": "3.10.0"
  }
 },
 "nbformat": 4,
 "nbformat_minor": 2
}
